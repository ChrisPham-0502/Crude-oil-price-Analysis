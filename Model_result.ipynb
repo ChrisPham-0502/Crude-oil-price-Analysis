{
 "cells": [
  {
   "cell_type": "markdown",
   "metadata": {},
   "source": [
    "# IV. Trend Prediction"
   ]
  },
  {
   "cell_type": "markdown",
   "metadata": {},
   "source": [
    "## 1. Import Libraries"
   ]
  },
  {
   "cell_type": "code",
   "execution_count": 1,
   "metadata": {},
   "outputs": [
    {
     "name": "stdout",
     "output_type": "stream",
     "text": [
      "WARNING:tensorflow:From c:\\Users\\PC\\AppData\\Local\\Programs\\Python\\Python310\\lib\\site-packages\\keras\\src\\losses.py:2976: The name tf.losses.sparse_softmax_cross_entropy is deprecated. Please use tf.compat.v1.losses.sparse_softmax_cross_entropy instead.\n",
      "\n"
     ]
    }
   ],
   "source": [
    "import numpy as np\n",
    "import seaborn as sns\n",
    "import pandas as pd\n",
    "import matplotlib.pyplot as plt\n",
    "\n",
    "\n",
    "# For LSTM model\n",
    "from keras.models import Model\n",
    "from keras.layers import Dense, LSTM, Input\n",
    "from keras.callbacks import EarlyStopping\n",
    "\n",
    "# To evaluate the models\n",
    "from sklearn.metrics import mean_squared_error, mean_absolute_error"
   ]
  },
  {
   "cell_type": "markdown",
   "metadata": {},
   "source": [
    "## 2. Loading processed data"
   ]
  },
  {
   "cell_type": "code",
   "execution_count": 2,
   "metadata": {},
   "outputs": [
    {
     "name": "stderr",
     "output_type": "stream",
     "text": [
      "C:\\Users\\PC\\AppData\\Local\\Temp\\ipykernel_10724\\3130949942.py:3: FutureWarning: PeriodDtype[B] is deprecated and will be removed in a future version. Use a DatetimeIndex with freq='B' instead\n",
      "  data.index = pd.DatetimeIndex(data.index).to_period('B').to_timestamp()  # Sets the frequency for the time series.\n"
     ]
    },
    {
     "data": {
      "text/plain": [
       "date\n",
       "1987-05-20    18.63\n",
       "1987-05-21    18.45\n",
       "1987-05-22    18.55\n",
       "1987-05-25    18.60\n",
       "1987-05-26    18.63\n",
       "              ...  \n",
       "2024-06-12    80.52\n",
       "2024-06-13    81.44\n",
       "2024-06-14    81.49\n",
       "2024-06-17    82.45\n",
       "2024-06-18    84.79\n",
       "Name: prices (Dollars per Barrel), Length: 9409, dtype: float64"
      ]
     },
     "execution_count": 2,
     "metadata": {},
     "output_type": "execute_result"
    }
   ],
   "source": [
    "df = pd.read_csv(\"crude_oil_prices.csv\", index_col=\"date\")\n",
    "data = df[\"prices (Dollars per Barrel)\"]\n",
    "data.index = pd.DatetimeIndex(data.index).to_period('B').to_timestamp()  # Sets the frequency for the time series.\n",
    "data"
   ]
  },
  {
   "cell_type": "markdown",
   "metadata": {},
   "source": [
    "## 3. Set hyperparameters"
   ]
  },
  {
   "cell_type": "code",
   "execution_count": 3,
   "metadata": {},
   "outputs": [],
   "source": [
    "# defining the batch size and number of epochs\n",
    "batch_size = 64\n",
    "epochs = 120\n",
    "timesteps = 30"
   ]
  },
  {
   "cell_type": "markdown",
   "metadata": {},
   "source": [
    "## 4. Splitting and Normalize dataset"
   ]
  },
  {
   "cell_type": "code",
   "execution_count": 5,
   "metadata": {},
   "outputs": [
    {
     "name": "stdout",
     "output_type": "stream",
     "text": [
      "8384\n",
      "8448\n"
     ]
    },
    {
     "data": {
      "text/plain": [
       "(8508, 1)"
      ]
     },
     "execution_count": 5,
     "metadata": {},
     "output_type": "execute_result"
    }
   ],
   "source": [
    "#get the length of training data set \n",
    "def get_train_length(dataset, batch_size, test_percent):\n",
    "    # substract test_percent to be excluded from training, reserved for testset\n",
    "    length = len(dataset)\n",
    "    length *= 1 - test_percent\n",
    "    train_length_values = []\n",
    "    for x in range(int(length) - 100,int(length)): \n",
    "        modulo=x%batch_size\n",
    "        if (modulo == 0):\n",
    "            train_length_values.append(x)\n",
    "            print(x)\n",
    "    return (max(train_length_values))\n",
    "\n",
    "length = get_train_length(data, batch_size, 0.1)\n",
    "#Adding timesteps * 2\n",
    "upper_train = length + timesteps*2\n",
    "dataset = data[0:upper_train]\n",
    "dataset = dataset.to_frame()\n",
    "training_set = dataset.iloc[:,0:1].values\n",
    "training_set.shape"
   ]
  },
  {
   "cell_type": "code",
   "execution_count": 8,
   "metadata": {},
   "outputs": [
    {
     "name": "stdout",
     "output_type": "stream",
     "text": [
      "(8448, 30, 1)\n",
      "(8448, 30, 1)\n"
     ]
    }
   ],
   "source": [
    "# Feature Scaling i.e we scale each and every value between 0 and 1 \n",
    "from sklearn.preprocessing import MinMaxScaler\n",
    "sc = MinMaxScaler(feature_range = (0, 1))\n",
    "training_set_scaled = sc.fit_transform(np.float64(training_set))\n",
    "training_set_scaled.shape\n",
    "X_train = []\n",
    "y_train = []\n",
    "\n",
    "# Creating a data structure with n timesteps\n",
    "\n",
    "for i in range(timesteps, length + timesteps): \n",
    "    X_train.append(training_set_scaled[i-timesteps:i,0])\n",
    "    y_train.append(training_set_scaled[i:i+timesteps,0])\n",
    "\n",
    "\n",
    "# Reshaping\n",
    "X_train, y_train = np.array(X_train), np.array(y_train)\n",
    "X_train = np.reshape(X_train, (X_train.shape[0], X_train.shape[1], 1))\n",
    "y_train = np.reshape(y_train, (y_train.shape[0], y_train.shape[1], 1))\n",
    "print(X_train.shape)\n",
    "print(y_train.shape)"
   ]
  },
  {
   "cell_type": "code",
   "execution_count": 11,
   "metadata": {},
   "outputs": [
    {
     "name": "stdout",
     "output_type": "stream",
     "text": [
      "9212\n",
      "9276\n",
      "9340\n",
      "9340\n"
     ]
    }
   ],
   "source": [
    "def get_test_length(dataset, batch_size):\n",
    "    \n",
    "    test_length_values = []\n",
    "    for x in range(len(dataset) - 200, len(dataset) - timesteps*2): \n",
    "        modulo=(x-upper_train)%batch_size\n",
    "        if (modulo == 0):\n",
    "            test_length_values.append(x)\n",
    "            print(x)\n",
    "    return (max(test_length_values))\n",
    "test_length = get_test_length(data, batch_size)\n",
    "upper_test = test_length + timesteps*2\n",
    "testset_length = test_length - upper_train"
   ]
  },
  {
   "cell_type": "code",
   "execution_count": 13,
   "metadata": {},
   "outputs": [],
   "source": [
    "#subsetting\n",
    "data_test = data[upper_train:upper_test] \n",
    "data_test = data_test.to_frame()\n",
    "test_set = data_test.iloc[:,0:1].values\n",
    "\n",
    "#scaling\n",
    "scaled_real_bcg_values_test = sc.fit_transform(np.float64(test_set))\n",
    "\n",
    "#creating input data\n",
    "X_test = []\n",
    "for i in range(timesteps, testset_length + timesteps):\n",
    "    X_test.append(scaled_real_bcg_values_test[i-timesteps:i, 0])\n",
    "X_test = np.array(X_test)\n",
    "\n",
    "\n",
    "#reshaping\n",
    "X_test = np.reshape(X_test, (X_test.shape[0], X_test.shape[1], 1))"
   ]
  },
  {
   "cell_type": "markdown",
   "metadata": {},
   "source": [
    "## 5. Build LSTM model"
   ]
  },
  {
   "cell_type": "code",
   "execution_count": 9,
   "metadata": {},
   "outputs": [
    {
     "name": "stdout",
     "output_type": "stream",
     "text": [
      "WARNING:tensorflow:From c:\\Users\\PC\\AppData\\Local\\Programs\\Python\\Python310\\lib\\site-packages\\keras\\src\\backend.py:1398: The name tf.executing_eagerly_outside_functions is deprecated. Please use tf.compat.v1.executing_eagerly_outside_functions instead.\n",
      "\n",
      "WARNING:tensorflow:From c:\\Users\\PC\\AppData\\Local\\Programs\\Python\\Python310\\lib\\site-packages\\keras\\src\\optimizers\\__init__.py:309: The name tf.train.Optimizer is deprecated. Please use tf.compat.v1.train.Optimizer instead.\n",
      "\n",
      "Model: \"model\"\n",
      "_________________________________________________________________\n",
      " Layer (type)                Output Shape              Param #   \n",
      "=================================================================\n",
      " input_1 (InputLayer)        [(64, 30, 1)]             0         \n",
      "                                                                 \n",
      " lstm (LSTM)                 (64, 30, 10)              480       \n",
      "                                                                 \n",
      " lstm_1 (LSTM)               (64, 30, 10)              840       \n",
      "                                                                 \n",
      " dense (Dense)               (64, 30, 1)               11        \n",
      "                                                                 \n",
      "=================================================================\n",
      "Total params: 1331 (5.20 KB)\n",
      "Trainable params: 1331 (5.20 KB)\n",
      "Non-trainable params: 0 (0.00 Byte)\n",
      "_________________________________________________________________\n"
     ]
    }
   ],
   "source": [
    "inputs_1_mae = Input(batch_shape=(batch_size, timesteps, 1))\n",
    "\n",
    "# Add stateful LSTM layers\n",
    "lstm_1_mae = LSTM(10, stateful=True, return_sequences=True)(inputs_1_mae)\n",
    "lstm_2_mae = LSTM(10, stateful=True, return_sequences=True)(lstm_1_mae)\n",
    "\n",
    "# Output layer\n",
    "output_1_mae = Dense(units=1)(lstm_2_mae)\n",
    "\n",
    "# Instantiate the model\n",
    "regressor_mae = Model(inputs=inputs_1_mae, outputs=output_1_mae)\n",
    "\n",
    "# Compile the model with Adam optimizer and mean absolute error as the loss function\n",
    "regressor_mae.compile(optimizer='adam', loss='mae')\n",
    "\n",
    "# Print model summary to verify the architecture\n",
    "regressor_mae.summary()\n",
    "\n",
    "# Define early stopping callback\n",
    "early_stopping = EarlyStopping(monitor='loss', patience=5, restore_best_weights=True)"
   ]
  },
  {
   "cell_type": "code",
   "execution_count": 10,
   "metadata": {},
   "outputs": [
    {
     "name": "stdout",
     "output_type": "stream",
     "text": [
      "Epoch: 0\n",
      "WARNING:tensorflow:From c:\\Users\\PC\\AppData\\Local\\Programs\\Python\\Python310\\lib\\site-packages\\keras\\src\\utils\\tf_utils.py:492: The name tf.ragged.RaggedTensorValue is deprecated. Please use tf.compat.v1.ragged.RaggedTensorValue instead.\n",
      "\n",
      "132/132 [==============================] - 7s 18ms/step - loss: 0.0545\n",
      "Epoch: 1\n",
      "132/132 [==============================] - 3s 20ms/step - loss: 0.0703\n",
      "Epoch: 2\n",
      "132/132 [==============================] - 3s 24ms/step - loss: 0.0641\n",
      "Epoch: 3\n",
      "132/132 [==============================] - 3s 21ms/step - loss: 0.0618\n",
      "Epoch: 4\n",
      "132/132 [==============================] - 3s 23ms/step - loss: 0.0593\n",
      "Epoch: 5\n",
      "132/132 [==============================] - 3s 19ms/step - loss: 0.0569\n",
      "Epoch: 6\n",
      "132/132 [==============================] - 3s 19ms/step - loss: 0.0543\n",
      "Epoch: 7\n",
      "132/132 [==============================] - 2s 17ms/step - loss: 0.0516\n",
      "Epoch: 8\n",
      "132/132 [==============================] - 2s 19ms/step - loss: 0.0490\n",
      "Epoch: 9\n",
      "132/132 [==============================] - 2s 17ms/step - loss: 0.0466\n",
      "Epoch: 10\n",
      "132/132 [==============================] - 5s 36ms/step - loss: 0.0452\n",
      "Epoch: 11\n",
      "132/132 [==============================] - 3s 19ms/step - loss: 0.0442\n",
      "Epoch: 12\n",
      "132/132 [==============================] - 3s 20ms/step - loss: 0.0436\n",
      "Epoch: 13\n",
      "132/132 [==============================] - 4s 27ms/step - loss: 0.0431\n",
      "Epoch: 14\n",
      "132/132 [==============================] - 3s 20ms/step - loss: 0.0427\n",
      "Epoch: 15\n",
      "132/132 [==============================] - 3s 24ms/step - loss: 0.0423\n",
      "Epoch: 16\n",
      "132/132 [==============================] - 3s 21ms/step - loss: 0.0422\n",
      "Epoch: 17\n",
      "132/132 [==============================] - 4s 29ms/step - loss: 0.0419\n",
      "Epoch: 18\n",
      "132/132 [==============================] - 5s 35ms/step - loss: 0.0418\n",
      "Epoch: 19\n",
      "132/132 [==============================] - 3s 24ms/step - loss: 0.0416\n",
      "Epoch: 20\n",
      "132/132 [==============================] - 3s 20ms/step - loss: 0.0415\n",
      "Epoch: 21\n",
      "132/132 [==============================] - 3s 24ms/step - loss: 0.0412\n",
      "Epoch: 22\n",
      "132/132 [==============================] - 3s 22ms/step - loss: 0.0412\n",
      "Epoch: 23\n",
      "132/132 [==============================] - 2s 19ms/step - loss: 0.0409\n",
      "Epoch: 24\n",
      "132/132 [==============================] - 3s 22ms/step - loss: 0.0410\n",
      "Epoch: 25\n",
      "132/132 [==============================] - 2s 16ms/step - loss: 0.0408\n",
      "Epoch: 26\n",
      "132/132 [==============================] - 3s 21ms/step - loss: 0.0409\n",
      "Epoch: 27\n",
      "132/132 [==============================] - 2s 18ms/step - loss: 0.0407\n",
      "Epoch: 28\n",
      "132/132 [==============================] - 3s 19ms/step - loss: 0.0406\n",
      "Epoch: 29\n",
      "132/132 [==============================] - 3s 22ms/step - loss: 0.0404\n",
      "Epoch: 30\n",
      "132/132 [==============================] - 3s 23ms/step - loss: 0.0404\n",
      "Epoch: 31\n",
      "132/132 [==============================] - 5s 35ms/step - loss: 0.0403\n",
      "Epoch: 32\n",
      "132/132 [==============================] - 4s 32ms/step - loss: 0.0404\n",
      "Epoch: 33\n",
      "132/132 [==============================] - 4s 32ms/step - loss: 0.0402\n",
      "Epoch: 34\n",
      "132/132 [==============================] - 4s 28ms/step - loss: 0.0403\n",
      "Epoch: 35\n",
      "132/132 [==============================] - 3s 26ms/step - loss: 0.0402\n",
      "Epoch: 36\n",
      "132/132 [==============================] - 3s 22ms/step - loss: 0.0402\n",
      "Epoch: 37\n",
      "132/132 [==============================] - 3s 21ms/step - loss: 0.0401\n",
      "Epoch: 38\n",
      "132/132 [==============================] - 3s 25ms/step - loss: 0.0403\n",
      "Epoch: 39\n",
      "132/132 [==============================] - 3s 23ms/step - loss: 0.0401\n",
      "Epoch: 40\n",
      "132/132 [==============================] - 2s 19ms/step - loss: 0.0402\n",
      "Epoch: 41\n",
      "132/132 [==============================] - 3s 20ms/step - loss: 0.0399\n",
      "Epoch: 42\n",
      "132/132 [==============================] - 3s 22ms/step - loss: 0.0401\n",
      "Epoch: 43\n",
      "132/132 [==============================] - 2s 19ms/step - loss: 0.0399\n",
      "Epoch: 44\n",
      "132/132 [==============================] - 3s 21ms/step - loss: 0.0400\n",
      "Epoch: 45\n",
      "132/132 [==============================] - 2s 19ms/step - loss: 0.0397\n",
      "Epoch: 46\n",
      "132/132 [==============================] - 4s 29ms/step - loss: 0.0398\n",
      "Epoch: 47\n",
      "132/132 [==============================] - 5s 35ms/step - loss: 0.0396\n",
      "Epoch: 48\n",
      "132/132 [==============================] - 3s 21ms/step - loss: 0.0396\n",
      "Epoch: 49\n",
      "132/132 [==============================] - 3s 20ms/step - loss: 0.0395\n",
      "Epoch: 50\n",
      "132/132 [==============================] - 3s 22ms/step - loss: 0.0395\n",
      "Epoch: 51\n",
      "132/132 [==============================] - 3s 22ms/step - loss: 0.0393\n",
      "Epoch: 52\n",
      "132/132 [==============================] - 3s 21ms/step - loss: 0.0393\n",
      "Epoch: 53\n",
      "132/132 [==============================] - 4s 30ms/step - loss: 0.0391\n",
      "Epoch: 54\n",
      "132/132 [==============================] - 3s 20ms/step - loss: 0.0391\n",
      "Epoch: 55\n",
      "132/132 [==============================] - 3s 22ms/step - loss: 0.0389\n",
      "Epoch: 56\n",
      "132/132 [==============================] - 3s 24ms/step - loss: 0.0390\n",
      "Epoch: 57\n",
      "132/132 [==============================] - 3s 25ms/step - loss: 0.0388\n",
      "Epoch: 58\n",
      "132/132 [==============================] - 4s 29ms/step - loss: 0.0388\n",
      "Epoch: 59\n",
      "132/132 [==============================] - 4s 34ms/step - loss: 0.0386\n",
      "Epoch: 60\n",
      "132/132 [==============================] - 3s 23ms/step - loss: 0.0386\n",
      "Epoch: 61\n",
      "132/132 [==============================] - 3s 20ms/step - loss: 0.0384\n",
      "Epoch: 62\n",
      "132/132 [==============================] - 3s 22ms/step - loss: 0.0384\n",
      "Epoch: 63\n",
      "132/132 [==============================] - 3s 21ms/step - loss: 0.0383\n",
      "Epoch: 64\n",
      "132/132 [==============================] - 4s 32ms/step - loss: 0.0383\n",
      "Epoch: 65\n",
      "132/132 [==============================] - 3s 26ms/step - loss: 0.0382\n",
      "Epoch: 66\n",
      "132/132 [==============================] - 3s 23ms/step - loss: 0.0383\n",
      "Epoch: 67\n",
      "132/132 [==============================] - 3s 20ms/step - loss: 0.0382\n",
      "Epoch: 68\n",
      "132/132 [==============================] - 3s 25ms/step - loss: 0.0381\n",
      "Epoch: 69\n",
      "132/132 [==============================] - 3s 26ms/step - loss: 0.0380\n",
      "Epoch: 70\n",
      "132/132 [==============================] - 5s 37ms/step - loss: 0.0380\n",
      "Epoch: 71\n",
      "132/132 [==============================] - 4s 30ms/step - loss: 0.0378\n",
      "Epoch: 72\n",
      "132/132 [==============================] - 4s 28ms/step - loss: 0.0379\n",
      "Epoch: 73\n",
      "132/132 [==============================] - 3s 25ms/step - loss: 0.0377\n",
      "Epoch: 74\n",
      "132/132 [==============================] - 3s 25ms/step - loss: 0.0377\n",
      "Epoch: 75\n",
      "132/132 [==============================] - 4s 34ms/step - loss: 0.0376\n",
      "Epoch: 76\n",
      "132/132 [==============================] - 4s 27ms/step - loss: 0.0376\n",
      "Epoch: 77\n",
      "132/132 [==============================] - 4s 30ms/step - loss: 0.0376\n",
      "Epoch: 78\n",
      "132/132 [==============================] - 3s 26ms/step - loss: 0.0376\n",
      "Epoch: 79\n",
      "132/132 [==============================] - 4s 28ms/step - loss: 0.0376\n",
      "Epoch: 80\n",
      "132/132 [==============================] - 5s 37ms/step - loss: 0.0376\n",
      "Epoch: 81\n",
      "132/132 [==============================] - 4s 28ms/step - loss: 0.0375\n",
      "Epoch: 82\n",
      "132/132 [==============================] - 3s 20ms/step - loss: 0.0376\n",
      "Epoch: 83\n",
      "132/132 [==============================] - 3s 20ms/step - loss: 0.0374\n",
      "Epoch: 84\n",
      "132/132 [==============================] - 3s 19ms/step - loss: 0.0375\n",
      "Epoch: 85\n",
      "132/132 [==============================] - 3s 20ms/step - loss: 0.0373\n",
      "Epoch: 86\n",
      "132/132 [==============================] - 2s 18ms/step - loss: 0.0375\n",
      "Epoch: 87\n",
      "132/132 [==============================] - 2s 19ms/step - loss: 0.0373\n",
      "Epoch: 88\n",
      "132/132 [==============================] - 3s 20ms/step - loss: 0.0374\n",
      "Epoch: 89\n",
      "132/132 [==============================] - 3s 20ms/step - loss: 0.0373\n",
      "Epoch: 90\n",
      "132/132 [==============================] - 3s 26ms/step - loss: 0.0374\n",
      "Epoch: 91\n",
      "132/132 [==============================] - 3s 20ms/step - loss: 0.0373\n",
      "Epoch: 92\n",
      "132/132 [==============================] - 2s 19ms/step - loss: 0.0373\n",
      "Epoch: 93\n",
      "132/132 [==============================] - 2s 19ms/step - loss: 0.0372\n",
      "Epoch: 94\n",
      "132/132 [==============================] - 2s 19ms/step - loss: 0.0372\n",
      "Epoch: 95\n",
      "132/132 [==============================] - 3s 19ms/step - loss: 0.0371\n",
      "Epoch: 96\n",
      "132/132 [==============================] - 3s 19ms/step - loss: 0.0371\n",
      "Epoch: 97\n",
      "132/132 [==============================] - 2s 19ms/step - loss: 0.0370\n",
      "Epoch: 98\n",
      "132/132 [==============================] - 3s 24ms/step - loss: 0.0370\n",
      "Epoch: 99\n",
      "132/132 [==============================] - 3s 20ms/step - loss: 0.0370\n",
      "Epoch: 100\n",
      "132/132 [==============================] - 2s 19ms/step - loss: 0.0370\n",
      "Epoch: 101\n",
      "132/132 [==============================] - 2s 18ms/step - loss: 0.0369\n",
      "Epoch: 102\n",
      "132/132 [==============================] - 3s 21ms/step - loss: 0.0369\n",
      "Epoch: 103\n",
      "132/132 [==============================] - 3s 21ms/step - loss: 0.0368\n",
      "Epoch: 104\n",
      "132/132 [==============================] - 3s 20ms/step - loss: 0.0369\n",
      "Epoch: 105\n",
      "132/132 [==============================] - 3s 20ms/step - loss: 0.0368\n",
      "Epoch: 106\n",
      "132/132 [==============================] - 2s 19ms/step - loss: 0.0369\n",
      "Epoch: 107\n",
      "132/132 [==============================] - 3s 19ms/step - loss: 0.0367\n",
      "Epoch: 108\n",
      "132/132 [==============================] - 2s 19ms/step - loss: 0.0368\n",
      "Epoch: 109\n",
      "132/132 [==============================] - 2s 18ms/step - loss: 0.0367\n",
      "Epoch: 110\n",
      "132/132 [==============================] - 3s 19ms/step - loss: 0.0368\n",
      "Epoch: 111\n",
      "132/132 [==============================] - 3s 19ms/step - loss: 0.0366\n",
      "Epoch: 112\n",
      "132/132 [==============================] - 3s 22ms/step - loss: 0.0367\n",
      "Epoch: 113\n",
      "132/132 [==============================] - 3s 19ms/step - loss: 0.0366\n",
      "Epoch: 114\n",
      "132/132 [==============================] - 3s 20ms/step - loss: 0.0367\n",
      "Epoch: 115\n",
      "132/132 [==============================] - 3s 20ms/step - loss: 0.0365\n",
      "Epoch: 116\n",
      "132/132 [==============================] - 3s 19ms/step - loss: 0.0366\n",
      "Epoch: 117\n",
      "132/132 [==============================] - 3s 20ms/step - loss: 0.0365\n",
      "Epoch: 118\n",
      "132/132 [==============================] - 3s 21ms/step - loss: 0.0365\n",
      "Epoch: 119\n",
      "132/132 [==============================] - 3s 19ms/step - loss: 0.0365\n"
     ]
    }
   ],
   "source": [
    "for i in range(epochs):\n",
    "    print(\"Epoch: \" + str(i))\n",
    "    history = regressor_mae.fit(X_train, y_train, shuffle=False, epochs=1, batch_size=batch_size, callbacks=[early_stopping])    \n",
    "    for layer in regressor_mae.layers:\n",
    "        if hasattr(layer, 'reset_states'):\n",
    "            layer.reset_states()\n",
    "    \n",
    "    # Check if early stopping was triggered\n",
    "    if early_stopping.stopped_epoch > 0:\n",
    "        print(\"Early stopping triggered after epoch: \", early_stopping.stopped_epoch)\n",
    "        break"
   ]
  },
  {
   "cell_type": "code",
   "execution_count": 14,
   "metadata": {},
   "outputs": [
    {
     "name": "stdout",
     "output_type": "stream",
     "text": [
      "13/13 [==============================] - 1s 10ms/step\n",
      "(832, 30, 1)\n",
      "(832, 30)\n",
      "(802, 1)\n"
     ]
    }
   ],
   "source": [
    "#prediction\n",
    "predicted_bcg_values_test_mae = regressor_mae.predict(X_test, batch_size=batch_size)\n",
    "for layer in regressor_mae.layers:\n",
    "        if hasattr(layer, 'reset_states'):\n",
    "            layer.reset_states()\n",
    "\n",
    "#reshaping\n",
    "predicted_bcg_values_test_mae = np.reshape(predicted_bcg_values_test_mae, \n",
    "                                       (predicted_bcg_values_test_mae.shape[0], \n",
    "                                        predicted_bcg_values_test_mae.shape[1]))\n",
    "\n",
    "#inverse transform\n",
    "predicted_bcg_values_test_mae = sc.inverse_transform(predicted_bcg_values_test_mae)\n",
    "\n",
    "\n",
    "#creating y_test data\n",
    "y_test = []\n",
    "for j in range(0, testset_length - timesteps):\n",
    "    y_test = np.append(y_test, predicted_bcg_values_test_mae[j, timesteps-1])\n",
    "\n",
    "# reshaping\n",
    "y_test = np.reshape(y_test, (y_test.shape[0], 1))\n"
   ]
  },
  {
   "cell_type": "markdown",
   "metadata": {},
   "source": [
    "## 5. Model Testing"
   ]
  },
  {
   "cell_type": "code",
   "execution_count": 15,
   "metadata": {},
   "outputs": [
    {
     "data": {
      "image/png": "[encoded data removed]",
      "text/plain": [
       "<Figure size 640x480 with 1 Axes>"
      ]
     },
     "metadata": {},
     "output_type": "display_data"
    }
   ],
   "source": [
    "# Convert y_test to a pandas Series with the same index as data_test\n",
    "y_test_series = pd.Series(y_test.flatten(), index=data_test.index[timesteps:timesteps+len(y_test)])\n",
    "\n",
    "# Visualising the results\n",
    "plt.plot(data_test.index[timesteps:timesteps+len(y_test)], test_set[timesteps:timesteps+len(y_test)], color='red', label='Real Crude Oil Prices')\n",
    "plt.plot(y_test_series.index, y_test_series, color='blue', label='Predicted Crude Oil Prices')\n",
    "plt.title('Crude Oil Prices Prediction - MAE')\n",
    "plt.xlabel('Date')\n",
    "plt.ylabel('Crude Oil Prices')\n",
    "plt.legend()\n",
    "plt.show()"
   ]
  },
  {
   "cell_type": "markdown",
   "metadata": {},
   "source": [
    "**Evaluation**\n",
    "1. Model Performance:\n",
    "- The LSTM model shows a good ability to capture the long-term trends and major movements in the crude oil prices.\n",
    "- The slight deviations and lag indicate areas where the model could potentially be improved, such as incorporating additional features or using more sophisticated modeling techniques.\n",
    "2. Evaluation Metrics: While the visual inspection provides a good qualitative assessment, quantitative metrics like RMSE, MAE, and MAPE will provide a more precise evaluation of the model's performance.\n",
    "Lower values of these metrics indicate better predictive accuracy.\n",
    "\n",
    "In summary, the LSTM model provides a solid foundation for predicting crude oil prices, capturing the general trends and significant movements. "
   ]
  },
  {
   "cell_type": "markdown",
   "metadata": {},
   "source": [
    "## 6. Model Evaluation"
   ]
  },
  {
   "cell_type": "code",
   "execution_count": 28,
   "metadata": {},
   "outputs": [
    {
     "name": "stdout",
     "output_type": "stream",
     "text": [
      "       RMSE        MAE       MAPE\n",
      "0  17.67025  13.163977  15.281455\n"
     ]
    }
   ],
   "source": [
    "# Making predictions on the test set\n",
    "prediction_set = []\n",
    "train_data_lstm = training_set_scaled[-timesteps:]\n",
    "new_batch = train_data_lstm.reshape((1, timesteps, 1))\n",
    "\n",
    "for i in range(len(scaled_real_bcg_values_test)):\n",
    "    pred = regressor_mae.predict(new_batch, batch_size=batch_size, verbose=False)\n",
    "    prediction_set.append(pred[0, -1])\n",
    "    new_batch = np.append(new_batch[:, 1:, :], np.reshape(pred[0, -1], (1, 1, 1)), axis=1)\n",
    "\n",
    "prediction_set = [i[0] for i in prediction_set]  # Transforms a list of arrays into a list of single float items.\n",
    "predictions = pd.Series(sc.inverse_transform(np.array(prediction_set).reshape(-1, 1)).flatten(), index=data_test.index)\n",
    "\n",
    "# Calculate evaluation metrics\n",
    "y_true = test_set\n",
    "y_pred = predictions.values\n",
    "\n",
    "rmse = np.sqrt(mean_squared_error(y_true, y_pred))\n",
    "mae = mean_absolute_error(y_true, y_pred)\n",
    "mape = np.mean(np.abs((y_true - y_pred) / y_true)) * 100\n",
    "\n",
    "# Create a DataFrame to show the results\n",
    "metrics_df = pd.DataFrame({\n",
    "    'RMSE': [rmse],\n",
    "    'MAE': [mae],\n",
    "    'MAPE': [mape]\n",
    "})\n",
    "\n",
    "print(metrics_df)"
   ]
  },
  {
   "cell_type": "markdown",
   "metadata": {},
   "source": [
    "#### Using the model to forecast the Brent crude oil price for the following 30 days"
   ]
  },
  {
   "cell_type": "code",
   "execution_count": 21,
   "metadata": {},
   "outputs": [
    {
     "data": {
      "image/png": "[encoded data removed]",
      "text/plain": [
       "<Figure size 640x480 with 1 Axes>"
      ]
     },
     "metadata": {},
     "output_type": "display_data"
    }
   ],
   "source": [
    "# Predicting the next 365 days\n",
    "full_data_lstm = training_set_scaled\n",
    "batch_one = full_data_lstm[-timesteps:]\n",
    "new_batch = batch_one.reshape((1, timesteps, 1))\n",
    "days_to_forecast = 30\n",
    "\n",
    "prediction_set = []\n",
    "for i in range(days_to_forecast):\n",
    "    pred = regressor_mae.predict(new_batch, batch_size=batch_size, verbose=False)\n",
    "    prediction_set.append(pred[0, -1])\n",
    "    new_batch = np.append(new_batch[:, 1:, :], np.reshape(pred[0, -1], (1, 1, 1)), axis=1)\n",
    "\n",
    "\n",
    "prediction_set = [i[0] for i in prediction_set]  # Transforms a list of arrays into a list of single float items.\n",
    "prediction_set = sc.inverse_transform(np.array(prediction_set).reshape(-1, 1))\n",
    "date_range = pd.date_range(data.index[-1], periods=days_to_forecast + 1, freq='B')[1:]  # Add one day for the range, then exclude the first day\n",
    "forecast = pd.Series(prediction_set.flatten(), index=date_range, name='Forecast')\n",
    "\n",
    "# Displays results\n",
    "short_data = data.iloc[-250:]  # Last n datapoints of the original time series.\n",
    "\n",
    "short_data.plot(color='blue', label='Actual')\n",
    "forecast.plot(color='red', label='Forecast')\n",
    "\n",
    "plt.title('Brent Crude Oil Price Forecast with LSTM (30 days ahead)')\n",
    "plt.xlabel('Date')\n",
    "plt.ylabel('Price per barrel (USD)')\n",
    "plt.legend()\n",
    "plt.show()"
   ]
  },
  {
   "cell_type": "code",
   "execution_count": 29,
   "metadata": {},
   "outputs": [
    {
     "name": "stdout",
     "output_type": "stream",
     "text": [
      "Forecasts for the following 30 days: \n",
      "2024-06-19    68.613266\n",
      "2024-06-20    69.339600\n",
      "2024-06-21    70.006058\n",
      "2024-06-24    70.636284\n",
      "2024-06-25    71.216087\n",
      "2024-06-26    71.739822\n",
      "2024-06-27    72.205864\n",
      "2024-06-28    72.616180\n",
      "2024-07-01    72.974968\n",
      "2024-07-02    73.287598\n",
      "2024-07-03    73.559738\n",
      "2024-07-04    73.796806\n",
      "2024-07-05    74.003708\n",
      "2024-07-08    74.184647\n",
      "2024-07-09    74.343185\n",
      "2024-07-10    74.482292\n",
      "2024-07-11    74.604431\n",
      "2024-07-12    74.711655\n",
      "2024-07-15    74.805725\n",
      "2024-07-16    74.888138\n",
      "2024-07-17    74.960220\n",
      "2024-07-18    75.023170\n",
      "2024-07-19    75.078033\n",
      "2024-07-22    75.125763\n",
      "2024-07-23    75.167206\n",
      "2024-07-24    75.203148\n",
      "2024-07-25    75.234276\n",
      "2024-07-26    75.261223\n",
      "2024-07-29    75.284508\n",
      "2024-07-30    75.304642\n",
      "Freq: B, Name: Forecast, dtype: float32\n"
     ]
    }
   ],
   "source": [
    "print('Forecasts for the following {} days: '.format(days_to_forecast))\n",
    "print(forecast)"
   ]
  },
  {
   "cell_type": "markdown",
   "metadata": {},
   "source": [
    "This LSTM model was trained to forecast the Brent crude oil price for 30 days ahead from the last date in the time series. That means the model could produce extremely erroneous results if it is used with long time spans (variable days_to_forecast), for example, 60 days or more\n",
    "\n",
    "**Conclusion**\n",
    "- Modeling crude oil prices is a complicated task due to the high variation and volatility associated with its market. However, it's necessary to do so, as oil is one of the most important energies driving the world economy and represents a crucial factor in most industries.\n",
    "\n",
    "- In the evaluation of the LSTM model, a Root Mean Squared Error (RMSE) of 17.67 and a Mean Absolute Error (MAE) of 13.16 were obtained. The forecast graph for the next 30 days demonstrates its capability to capture the trend and shape of the time series of actual data.\n",
    "\n",
    "- Considering the errors obtained in the evaluations of each model, along with their ability to capture the trend and shape of the original time series, it's evident that the LSTM model performs significantly better in forecasting the Brent crude oil price.."
   ]
  },
  {
   "cell_type": "markdown",
   "metadata": {},
   "source": []
  }
 ],
 "metadata": {
  "kernelspec": {
   "display_name": "Python 3",
   "language": "python",
   "name": "python3"
  },
  "language_info": {
   "codemirror_mode": {
    "name": "ipython",
    "version": 3
   },
   "file_extension": ".py",
   "mimetype": "text/x-python",
   "name": "python",
   "nbconvert_exporter": "python",
   "pygments_lexer": "ipython3",
   "version": "3.10.11"
  }
 },
 "nbformat": 4,
 "nbformat_minor": 2
}
